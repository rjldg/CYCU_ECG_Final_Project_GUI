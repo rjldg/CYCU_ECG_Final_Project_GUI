{
 "cells": [
  {
   "cell_type": "code",
   "execution_count": 6,
   "id": "1e4e6a71",
   "metadata": {},
   "outputs": [],
   "source": [
    "# Import necessary libraries\n",
    "import visualkeras\n",
    "import tensorflow as tf\n",
    "from tensorflow.keras import layers, models\n",
    "from tensorflow.keras.layers import Conv2D, MaxPooling2D, Flatten, Dense"
   ]
  },
  {
   "cell_type": "code",
   "execution_count": 2,
   "id": "2eb3cda2",
   "metadata": {},
   "outputs": [],
   "source": [
    "# Define constants\n",
    "NUM_CLASSES = 10\n",
    "IMG_SIZE = 64"
   ]
  },
  {
   "cell_type": "code",
   "execution_count": 3,
   "id": "231020ac",
   "metadata": {},
   "outputs": [],
   "source": [
    "# 1. 1D CNN model\n",
    "def build_1d_cnn(input_shape=(300,1), num_classes=NUM_CLASSES):\n",
    "    inp = layers.Input(shape=input_shape)\n",
    "    x = layers.Conv1D(16, 9, activation='relu', padding='same')(inp)\n",
    "    x = layers.MaxPool1D(2)(x)\n",
    "    x = layers.Conv1D(32, 7, activation='relu', padding='same')(x)\n",
    "    x = layers.MaxPool1D(2)(x)\n",
    "    x = layers.Conv1D(64, 5, activation='relu', padding='same')(x)\n",
    "    x = layers.MaxPool1D(2)(x)\n",
    "    x = layers.Conv1D(128, 3, activation='relu', padding='same')(x)\n",
    "    x = layers.GlobalAveragePooling1D()(x)\n",
    "    x = layers.Dense(128, activation='relu')(x)\n",
    "    out = layers.Dense(num_classes, activation='softmax')(x)\n",
    "    return models.Model(inp, out)\n",
    "\n",
    "# 2.) 2D CNN Model\n",
    "def build_2d_cnn(input_shape=(IMG_SIZE, IMG_SIZE, 1), num_classes=NUM_CLASSES):\n",
    "    inp = layers.Input(shape=input_shape)\n",
    "    x = layers.Conv2D(32, 3, activation='relu', padding='same')(inp)\n",
    "    x = layers.MaxPool2D()(x)\n",
    "    x = layers.Conv2D(64, 3, activation='relu', padding='same')(x)\n",
    "    x = layers.MaxPool2D()(x)\n",
    "    x = layers.Conv2D(128, 3, activation='relu', padding='same')(x)\n",
    "    x = layers.GlobalAveragePooling2D()(x)\n",
    "    x = layers.Dense(128, activation='relu')(x)\n",
    "    out = layers.Dense(num_classes, activation='softmax')(x)\n",
    "    return models.Model(inp, out)\n",
    "\n",
    "# 3.) Hybrid Model\n",
    "def build_1d_branch(input_shape=(300,)):\n",
    "    inp = layers.Input(shape=input_shape, name=\"ecg_signal\")\n",
    "    x = layers.Reshape((input_shape[0], 1))(inp)\n",
    "\n",
    "    for filters, k, pool in [(32, 7, 2), (64, 5, 2), (128, 5, None), (256, 3, None)]:\n",
    "        x = layers.Conv1D(filters, kernel_size=k, padding='same', kernel_regularizer=tf.keras.regularizers.l2(1e-4))(x)\n",
    "        x = layers.BatchNormalization()(x)\n",
    "        x = layers.Activation('relu')(x)\n",
    "        if pool:\n",
    "            x = layers.MaxPool1D(pool_size=pool)(x)\n",
    "        x = layers.Dropout(0.2)(x)\n",
    "\n",
    "    x = layers.GlobalAveragePooling1D()(x)\n",
    "    x = layers.Dense(128, activation='relu')(x)\n",
    "    x = layers.Dropout(0.3)(x)\n",
    "    model = models.Model(inputs=inp, outputs=x, name='1d_branch')\n",
    "    return model\n",
    "\n",
    "def conv2d_block(x, filters, kernel_size=3, pool=True):\n",
    "    x = layers.Conv2D(filters, kernel_size, padding='same', kernel_regularizer=tf.keras.regularizers.l2(1e-4))(x)\n",
    "    x = layers.BatchNormalization()(x)\n",
    "    x = layers.Activation('relu')(x)\n",
    "    x = layers.Conv2D(filters, kernel_size, padding='same', kernel_regularizer=tf.keras.regularizers.l2(1e-4))(x)\n",
    "    x = layers.BatchNormalization()(x)\n",
    "    x = layers.Activation('relu')(x)\n",
    "    if pool:\n",
    "        x = layers.MaxPool2D(pool_size=2)(x)\n",
    "    x = layers.Dropout(0.25)(x)\n",
    "    return x\n",
    "\n",
    "def build_2d_branch(input_shape=(IMG_SIZE, IMG_SIZE, 1)):\n",
    "    inp = layers.Input(shape=input_shape, name='ecg_image')\n",
    "    x = inp\n",
    "    for f in [32, 64, 128]:\n",
    "        x = conv2d_block(x, f, kernel_size=3, pool=True)\n",
    "    x = layers.GlobalAveragePooling2D()(x)\n",
    "    x = layers.Dense(128, activation='relu')(x)\n",
    "    x = layers.Dropout(0.4)(x)\n",
    "    model = models.Model(inputs=inp, outputs=x, name='2d_branch')\n",
    "    return model\n",
    "\n",
    "def build_hybrid_model(signal_shape=(300,), image_shape=(IMG_SIZE, IMG_SIZE, 1), num_classes=NUM_CLASSES):\n",
    "    branch1 = build_1d_branch(signal_shape)\n",
    "    branch2 = build_2d_branch(image_shape)\n",
    "\n",
    "    combined = layers.concatenate([branch1.output, branch2.output])\n",
    "    x = layers.Dense(256, activation='relu')(combined)\n",
    "    x = layers.BatchNormalization()(x)\n",
    "    x = layers.Dropout(0.5)(x)\n",
    "    x = layers.Dense(128, activation='relu')(x)\n",
    "    x = layers.Dropout(0.4)(x)\n",
    "\n",
    "    out = layers.Dense(num_classes, activation='softmax', name='output')(x)\n",
    "    model = models.Model(inputs=[branch1.input, branch2.input], outputs=out, name='ecg_hybrid')\n",
    "    return model"
   ]
  },
  {
   "cell_type": "code",
   "execution_count": 8,
   "id": "75fd2b88",
   "metadata": {},
   "outputs": [
    {
     "name": "stdout",
     "output_type": "stream",
     "text": [
      "Generating visualizations...\n",
      "1D CNN visualization saved to 1d_cnn_visual.png\n",
      "2D CNN visualization saved to 2d_cnn_visual.png\n"
     ]
    },
    {
     "name": "stderr",
     "output_type": "stream",
     "text": [
      "c:\\Users\\LENOVO\\miniconda3\\envs\\ecg_cycu_project\\Lib\\site-packages\\visualkeras\\layered.py:86: UserWarning: The legend_text_spacing_offset parameter is deprecated and will be removed in a future release.\n",
      "  warnings.warn(\"The legend_text_spacing_offset parameter is deprecated and will be removed in a future release.\")\n"
     ]
    },
    {
     "name": "stdout",
     "output_type": "stream",
     "text": [
      "Hybrid CNN visualization saved to hybrid_cnn_visual.png\n"
     ]
    }
   ],
   "source": [
    "# Create and visualize the models\n",
    "print(\"Generating visualizations...\")\n",
    "\n",
    "# 1D CNN\n",
    "model_1d = build_1d_cnn()\n",
    "visualkeras.layered_view(model_1d, to_file='1d_cnn_visual.png', legend=True, draw_funnel=True, spacing=10)\n",
    "print(\"1D CNN visualization saved to 1d_cnn_visual.png\")\n",
    "\n",
    "# 2D CNN\n",
    "model_2d = build_2d_cnn()\n",
    "visualkeras.layered_view(model_2d, to_file='2d_cnn_visual.png', legend=True, draw_funnel=True, spacing=10)\n",
    "print(\"2D CNN visualization saved to 2d_cnn_visual.png\")\n",
    "\n",
    "# Hybrid CNN\n",
    "model_hybrid = build_hybrid_model()\n",
    "visualkeras.layered_view(model_hybrid, to_file='hybrid_cnn_visual.png', legend=True, draw_funnel=True, spacing=10)\n",
    "print(\"Hybrid CNN visualization saved to hybrid_cnn_visual.png\")"
   ]
  },
  {
   "cell_type": "code",
   "execution_count": null,
   "id": "5827b463",
   "metadata": {},
   "outputs": [],
   "source": []
  }
 ],
 "metadata": {
  "kernelspec": {
   "display_name": "ecg_cycu_project",
   "language": "python",
   "name": "python3"
  },
  "language_info": {
   "codemirror_mode": {
    "name": "ipython",
    "version": 3
   },
   "file_extension": ".py",
   "mimetype": "text/x-python",
   "name": "python",
   "nbconvert_exporter": "python",
   "pygments_lexer": "ipython3",
   "version": "3.12.11"
  }
 },
 "nbformat": 4,
 "nbformat_minor": 5
}
